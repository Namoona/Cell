{
 "cells": [
  {
   "cell_type": "code",
   "execution_count": 12,
   "metadata": {},
   "outputs": [],
   "source": [
    "import numpy as np\n",
    "import matplotlib.pyplot as plt\n",
    "import seaborn as sns\n",
    "import math\n",
    "from scipy.integrate import odeint\n",
    "sns.set()\n",
    "%matplotlib inline"
   ]
  },
  {
   "cell_type": "code",
   "execution_count": 13,
   "metadata": {},
   "outputs": [],
   "source": [
    "tcyc = 1.0\n",
    "Gcamax = 200\n",
    "Gsrmax = 10000\n",
    "No = 140\n",
    "Ko = 7\n",
    "Ki = 120\n",
    "ADP = 0.05\n",
    "Pi = 0.3\n",
    "ATP = 6\n",
    "Kno3 = 900\n",
    "Kno1 = 10\n",
    "Kno2 = 10\n",
    "Kko1 = 0.3\n",
    "Kko2 = 0.2\n",
    "Kni3 = 4\n",
    "Kni1 = 6\n",
    "Kni2 = 6\n",
    "Kki1 = 20\n",
    "Kki2 = 30\n",
    "Kinact = 0.8\n",
    "Krec = 3\n",
    "Kfail = 0.3\n",
    "Kpump = 600\n",
    "Co = 1.5\n",
    "Knx = 20\n",
    "Kcx = 0.05\n",
    "Kncx = 2600\n",
    "Kn = 100\n",
    "Gna = 0.05\n",
    "K50 = 0.002\n",
    "Ksrleak = 0.001\n",
    "Ksrup = 7000\n",
    "R1 = 0.02\n",
    "R2 = 0.06\n",
    "Ctot = 0.001\n",
    "Ni = 8.25\n",
    "Casr = 0.35\n",
    "Kadp = 2\n",
    "Katp = 0.08\n",
    "Kpi = 5\n"
   ]
  },
  {
   "cell_type": "code",
   "execution_count": 14,
   "metadata": {},
   "outputs": [
    {
     "ename": "SyntaxError",
     "evalue": "can't assign to literal (<ipython-input-14-9fcaeda3deea>, line 20)",
     "output_type": "error",
     "traceback": [
      "\u001b[1;36m  File \u001b[1;32m\"<ipython-input-14-9fcaeda3deea>\"\u001b[1;36m, line \u001b[1;32m20\u001b[0m\n\u001b[1;33m    E1 = 1=E2\u001b[0m\n\u001b[1;37m        ^\u001b[0m\n\u001b[1;31mSyntaxError\u001b[0m\u001b[1;31m:\u001b[0m can't assign to literal\n"
     ]
    }
   ],
   "source": [
    "Em = -85 + 115*np.exp(-(tcyc/150)**5)\n",
    "Gca = Gcamax*(1-np.exp(-(tcyc/2)))*np.exp(-(tcyc/70)**2)\n",
    "Gsrca = Gsrmax*(1-np.exp(-(tcyc/4)))*np.exp(-(tcyc/80)**2)\n",
    "Fno = No/(No+Kno3*np.exp(Em/26)* 0**9)\n",
    "Do = 1 + No/Kno1*(1+No/Kno2)+Ko/Kko1*(1+Ko/Kko2)\n",
    "Fk20 = Ko*Ko/(Kko1*Kko2*Do)\n",
    "Fn20 = No*No/(Kno1*Kno2*Do)\n",
    "Fni = Ni/(Ni+Kni3)\n",
    "Di = 1+Ni/Kni1*(1+Ni/Kni2)+Ki/Kki1*(1+Ki/Kki2)\n",
    "Fk2i = Ki*Ki/(Kki1*Kki2*Di)\n",
    "Fn2i = Ni*Ni/(Kni1*Kni2*Di)\n",
    "Fadp = ADP/(ADP+Kadp)\n",
    "Fatp = ATP/Katp*(1+ATP/Katp+Pi/Kpi)\n",
    "Fpi = Pi/Kpi*(1+ATP/Katp+Pi/Kpi)\n",
    "K1 = Fni*Fn2i*Fatp*(1-Fadp)*np.exp((Em/55)*0**0.1)*2\n",
    "K2 = Fno*Fn20*(Fadp+Kfail)*np.exp((Em/55)*0**0.1)*2\n",
    "K3 = Fk20*(1-Fno)\n",
    "K4 = Fk2i*Fpi*(1-Fni)\n",
    "E2 = (K1+K4)/(K1+K2+K3+K4)\n",
    "E1 = 1=E2\n",
    "Pump = E1*K1-E2*K2\n",
    "Fact = Fn2i*Fni*Krec/(Fn2i*Fni*Krec+E1*Fact*(1-Fn2i)*Kinact)\n",
    "Ipump = Pump*Fact*Kpump"
   ]
  },
  {
   "cell_type": "code",
   "execution_count": 15,
   "metadata": {},
   "outputs": [
    {
     "ename": "NameError",
     "evalue": "name 'Pump' is not defined",
     "output_type": "error",
     "traceback": [
      "\u001b[1;31m---------------------------------------------------------------------------\u001b[0m",
      "\u001b[1;31mNameError\u001b[0m                                 Traceback (most recent call last)",
      "\u001b[1;32m<ipython-input-15-108d0e66c9a6>\u001b[0m in \u001b[0;36m<module>\u001b[1;34m()\u001b[0m\n\u001b[1;32m----> 1\u001b[1;33m \u001b[0mPump\u001b[0m\u001b[1;33m\u001b[0m\u001b[0m\n\u001b[0m",
      "\u001b[1;31mNameError\u001b[0m: name 'Pump' is not defined"
     ]
    }
   ],
   "source": [
    "Pump"
   ]
  },
  {
   "cell_type": "code",
   "execution_count": null,
   "metadata": {},
   "outputs": [],
   "source": []
  },
  {
   "cell_type": "code",
   "execution_count": null,
   "metadata": {},
   "outputs": [],
   "source": []
  },
  {
   "cell_type": "code",
   "execution_count": null,
   "metadata": {},
   "outputs": [],
   "source": []
  },
  {
   "cell_type": "code",
   "execution_count": null,
   "metadata": {},
   "outputs": [],
   "source": []
  },
  {
   "cell_type": "code",
   "execution_count": null,
   "metadata": {},
   "outputs": [],
   "source": []
  },
  {
   "cell_type": "code",
   "execution_count": null,
   "metadata": {},
   "outputs": [],
   "source": []
  },
  {
   "cell_type": "code",
   "execution_count": null,
   "metadata": {},
   "outputs": [],
   "source": []
  },
  {
   "cell_type": "code",
   "execution_count": null,
   "metadata": {},
   "outputs": [],
   "source": []
  },
  {
   "cell_type": "code",
   "execution_count": null,
   "metadata": {},
   "outputs": [],
   "source": []
  },
  {
   "cell_type": "code",
   "execution_count": null,
   "metadata": {},
   "outputs": [],
   "source": []
  },
  {
   "cell_type": "code",
   "execution_count": null,
   "metadata": {},
   "outputs": [],
   "source": []
  },
  {
   "cell_type": "code",
   "execution_count": null,
   "metadata": {},
   "outputs": [],
   "source": []
  },
  {
   "cell_type": "code",
   "execution_count": null,
   "metadata": {},
   "outputs": [],
   "source": []
  },
  {
   "cell_type": "code",
   "execution_count": null,
   "metadata": {},
   "outputs": [],
   "source": []
  }
 ],
 "metadata": {
  "kernelspec": {
   "display_name": "Python 3",
   "language": "python",
   "name": "python3"
  },
  "language_info": {
   "codemirror_mode": {
    "name": "ipython",
    "version": 3
   },
   "file_extension": ".py",
   "mimetype": "text/x-python",
   "name": "python",
   "nbconvert_exporter": "python",
   "pygments_lexer": "ipython3",
   "version": "3.6.5"
  }
 },
 "nbformat": 4,
 "nbformat_minor": 2
}
